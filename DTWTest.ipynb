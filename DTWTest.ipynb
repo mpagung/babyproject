{
 "cells": [
  {
   "cell_type": "code",
   "execution_count": 74,
   "metadata": {},
   "outputs": [
    {
     "data": {
      "image/png": "[encoded data removed]",
      "text/plain": [
       "<Figure size 432x288 with 1 Axes>"
      ]
     },
     "metadata": {},
     "output_type": "display_data"
    }
   ],
   "source": [
    "import _ucrdtw\n",
    "import numpy as np\n",
    "import matplotlib.pyplot as plt\n",
    "\n",
    "#for loading mat file\n",
    "import scipy.io as sio\n",
    "\n",
    "data = np.cumsum(np.random.uniform(-0.5, 0.5, 1000000))\n",
    "query = np.cumsum(np.random.uniform(-0.5, 0.5, 100))\n",
    "loc, dist = _ucrdtw.ucrdtw(data, query, 0.05, True)\n",
    "query2 = np.concatenate((np.linspace(0.0, 0.0, loc), query)) + (data[loc] - query[0])\n",
    "\n",
    "plt.figure()\n",
    "plt.plot(data)\n",
    "plt.plot(query2)\n",
    "plt.show()"
   ]
  },
  {
   "cell_type": "code",
   "execution_count": 75,
   "metadata": {},
   "outputs": [
    {
     "data": {
      "text/plain": [
       "(427603,)"
      ]
     },
     "execution_count": 75,
     "metadata": {},
     "output_type": "execute_result"
    },
    {
     "data": {
      "image/png": "[encoded data removed]",
      "text/plain": [
       "<Figure size 432x288 with 1 Axes>"
      ]
     },
     "metadata": {},
     "output_type": "display_data"
    },
    {
     "data": {
      "text/plain": [
       "<Figure size 432x288 with 0 Axes>"
      ]
     },
     "metadata": {},
     "output_type": "display_data"
    }
   ],
   "source": [
    "query2 = np.concatenate((np.linspace(0.0, 0.0, loc), query)) + (data[loc] - query[0])\n",
    "plt.plot(np.concatenate((np.linspace(0.0, 0.0, loc), query)))\n",
    "plt.figure()\n",
    "query2.shape\n"
   ]
  },
  {
   "cell_type": "code",
   "execution_count": null,
   "metadata": {},
   "outputs": [],
   "source": []
  },
  {
   "cell_type": "code",
   "execution_count": 76,
   "metadata": {},
   "outputs": [
    {
     "data": {
      "text/plain": [
       "array([[ 1.386300e+00],\n",
       "       [ 1.734900e+00],\n",
       "       [ 2.186500e+00],\n",
       "       [ 2.747200e+00],\n",
       "       [ 3.751900e+00],\n",
       "       [ 5.023100e+00],\n",
       "       [ 6.478500e+00],\n",
       "       [ 8.002600e+00],\n",
       "       [ 9.492100e+00],\n",
       "       [ 1.082540e+01],\n",
       "       [ 1.186770e+01],\n",
       "       [ 1.248680e+01],\n",
       "       [ 1.258730e+01],\n",
       "       [ 1.214290e+01],\n",
       "       [ 1.119050e+01],\n",
       "       [ 9.804200e+00],\n",
       "       [ 8.063500e+00],\n",
       "       [ 6.063500e+00],\n",
       "       [ 3.931200e+00],\n",
       "       [ 1.798900e+00],\n",
       "       [-2.328000e-01],\n",
       "       [-2.105800e+00],\n",
       "       [-3.783100e+00],\n",
       "       [-5.232800e+00],\n",
       "       [-6.439200e+00],\n",
       "       [-7.396800e+00],\n",
       "       [-8.121700e+00],\n",
       "       [-8.666700e+00],\n",
       "       [-9.100500e+00],\n",
       "       [-9.460300e+00],\n",
       "       [-9.735400e+00],\n",
       "       [-9.915300e+00],\n",
       "       [-1.003700e+01],\n",
       "       [-1.015080e+01],\n",
       "       [-1.023470e+01],\n",
       "       [-1.025850e+01],\n",
       "       [-1.021930e+01],\n",
       "       [-1.005530e+01],\n",
       "       [-9.917800e+00],\n",
       "       [-9.372800e+00],\n",
       "       [-7.872800e+00],\n",
       "       [-2.138100e+00],\n",
       "       [ 1.064760e+01],\n",
       "       [ 3.033330e+01],\n",
       "       [ 5.314290e+01],\n",
       "       [ 7.242860e+01],\n",
       "       [ 8.395240e+01],\n",
       "       [ 8.657140e+01],\n",
       "       [ 8.009520e+01],\n",
       "       [ 6.500000e+01],\n",
       "       [ 4.490480e+01],\n",
       "       [ 2.176190e+01],\n",
       "       [ 2.112900e+00],\n",
       "       [-1.022580e+01],\n",
       "       [-1.462740e+01],\n",
       "       [-1.388270e+01],\n",
       "       [-1.134460e+01],\n",
       "       [-1.066130e+01],\n",
       "       [-1.031750e+01],\n",
       "       [-1.042440e+01],\n",
       "       [-1.042970e+01],\n",
       "       [-1.037730e+01],\n",
       "       [-1.049760e+01],\n",
       "       [-1.068650e+01],\n",
       "       [-1.076660e+01],\n",
       "       [-1.057080e+01],\n",
       "       [-9.788400e+00],\n",
       "       [-8.989400e+00],\n",
       "       [-8.148100e+00],\n",
       "       [-7.365100e+00],\n",
       "       [-6.698400e+00],\n",
       "       [-6.158700e+00],\n",
       "       [-5.719600e+00],\n",
       "       [-5.349200e+00],\n",
       "       [-5.010600e+00],\n",
       "       [-4.672000e+00],\n",
       "       [-4.322800e+00],\n",
       "       [-3.978800e+00],\n",
       "       [-3.650800e+00],\n",
       "       [-3.328000e+00],\n",
       "       [-3.026500e+00],\n",
       "       [-2.788400e+00],\n",
       "       [-2.640200e+00],\n",
       "       [-2.560800e+00],\n",
       "       [-2.518500e+00],\n",
       "       [-2.502600e+00],\n",
       "       [-2.497400e+00],\n",
       "       [-2.476200e+00],\n",
       "       [-2.423300e+00],\n",
       "       [-2.333300e+00],\n",
       "       [-2.174600e+00],\n",
       "       [-1.894200e+00],\n",
       "       [-1.449700e+00],\n",
       "       [-8.201000e-01],\n",
       "       [ 4.760000e-02],\n",
       "       [ 1.206300e+00],\n",
       "       [ 2.672000e+00],\n",
       "       [ 4.412700e+00],\n",
       "       [ 6.402100e+00],\n",
       "       [ 8.613800e+00],\n",
       "       [ 1.098940e+01],\n",
       "       [ 1.342860e+01],\n",
       "       [ 1.584660e+01],\n",
       "       [ 1.819050e+01],\n",
       "       [ 2.043390e+01],\n",
       "       [ 2.256610e+01],\n",
       "       [ 2.459260e+01],\n",
       "       [ 2.651850e+01],\n",
       "       [ 2.833860e+01],\n",
       "       [ 3.004230e+01],\n",
       "       [ 3.162960e+01],\n",
       "       [ 3.307940e+01],\n",
       "       [ 3.431750e+01],\n",
       "       [ 3.523280e+01],\n",
       "       [ 3.573020e+01],\n",
       "       [ 3.576190e+01],\n",
       "       [ 3.532800e+01],\n",
       "       [ 3.443920e+01],\n",
       "       [ 3.311640e+01],\n",
       "       [ 3.140210e+01],\n",
       "       [ 2.938620e+01],\n",
       "       [ 2.716930e+01],\n",
       "       [ 2.484130e+01],\n",
       "       [ 2.246030e+01],\n",
       "       [ 2.007410e+01],\n",
       "       [ 1.771430e+01],\n",
       "       [ 1.541270e+01],\n",
       "       [ 1.319580e+01],\n",
       "       [ 1.109520e+01],\n",
       "       [ 9.127000e+00],\n",
       "       [ 7.312200e+00],\n",
       "       [ 5.677200e+00],\n",
       "       [ 4.259300e+00],\n",
       "       [ 3.074100e+00],\n",
       "       [ 2.116400e+00],\n",
       "       [ 1.365100e+00],\n",
       "       [ 7.937000e-01],\n",
       "       [ 3.545000e-01],\n",
       "       [-1.590000e-02],\n",
       "       [-3.810000e-01],\n",
       "       [-7.672000e-01],\n",
       "       [-1.164000e+00],\n",
       "       [-1.534400e+00],\n",
       "       [-1.841300e+00],\n",
       "       [-2.058200e+00],\n",
       "       [-2.164000e+00],\n",
       "       [-2.121700e+00],\n",
       "       [-1.888900e+00],\n",
       "       [-1.423300e+00],\n",
       "       [-7.143000e-01],\n",
       "       [ 1.799000e-01],\n",
       "       [ 1.153400e+00],\n",
       "       [ 2.010600e+00],\n",
       "       [ 2.502600e+00],\n",
       "       [ 2.306900e+00],\n",
       "       [ 1.058200e+00],\n",
       "       [-1.624300e+00],\n",
       "       [-6.068800e+00],\n",
       "       [-1.250790e+01],\n",
       "       [-2.101590e+01],\n",
       "       [-3.164020e+01],\n",
       "       [-4.435450e+01],\n",
       "       [-5.909520e+01],\n",
       "       [-7.565080e+01],\n",
       "       [-9.370370e+01],\n",
       "       [-1.128413e+02],\n",
       "       [-1.361831e+02],\n",
       "       [-1.574009e+02],\n",
       "       [-1.759360e+02],\n",
       "       [-1.912608e+02],\n",
       "       [-2.029880e+02],\n",
       "       [-2.110979e+02],\n",
       "       [-2.142609e+02],\n",
       "       [-2.087281e+02],\n",
       "       [-2.002744e+02],\n",
       "       [-1.890363e+02],\n",
       "       [-1.752654e+02],\n",
       "       [-1.591580e+02],\n",
       "       [-1.407594e+02],\n",
       "       [-1.216584e+02],\n",
       "       [-1.024698e+02],\n",
       "       [-8.452440e+01],\n",
       "       [-6.806570e+01],\n",
       "       [-5.322130e+01],\n",
       "       [-4.015400e+01],\n",
       "       [-2.889550e+01],\n",
       "       [-1.951410e+01],\n",
       "       [-1.196470e+01],\n",
       "       [-5.366600e+00],\n",
       "       [ 2.183000e-01],\n",
       "       [ 4.769500e+00],\n",
       "       [ 8.302200e+00],\n",
       "       [ 1.086170e+01],\n",
       "       [ 1.266760e+01],\n",
       "       [ 1.392950e+01],\n",
       "       [ 1.483950e+01],\n",
       "       [ 1.557010e+01],\n",
       "       [ 1.627170e+01],\n",
       "       [ 1.707100e+01],\n",
       "       [ 1.806900e+01],\n",
       "       [ 1.934230e+01],\n",
       "       [ 2.094510e+01],\n",
       "       [ 2.291430e+01],\n",
       "       [ 2.527190e+01],\n",
       "       [ 2.798040e+01],\n",
       "       [ 3.098930e+01],\n",
       "       [ 3.423800e+01],\n",
       "       [ 3.765980e+01],\n",
       "       [ 4.143700e+01],\n",
       "       [ 4.554940e+01],\n",
       "       [ 4.996990e+01],\n",
       "       [ 5.471520e+01],\n",
       "       [ 5.980810e+01],\n",
       "       [ 6.480540e+01],\n",
       "       [ 6.978340e+01],\n",
       "       [ 7.460150e+01],\n",
       "       [ 7.937950e+01],\n",
       "       [ 8.622480e+01],\n",
       "       [ 9.331230e+01],\n",
       "       [ 1.005793e+02],\n",
       "       [ 1.083608e+02],\n",
       "       [ 1.164776e+02],\n",
       "       [ 1.247344e+02],\n",
       "       [ 1.328836e+02],\n",
       "       [ 1.386931e+02],\n",
       "       [ 1.438307e+02],\n",
       "       [ 1.481270e+02],\n",
       "       [ 1.514762e+02],\n",
       "       [ 1.537989e+02],\n",
       "       [ 1.550847e+02],\n",
       "       [ 1.553333e+02],\n",
       "       [ 1.545344e+02],\n",
       "       [ 1.526984e+02],\n",
       "       [ 1.499153e+02],\n",
       "       [ 1.462910e+02],\n",
       "       [ 1.419365e+02],\n",
       "       [ 1.369048e+02],\n",
       "       [ 1.312698e+02],\n",
       "       [ 1.251217e+02],\n",
       "       [ 1.185767e+02],\n",
       "       [ 1.117566e+02],\n",
       "       [ 1.047884e+02],\n",
       "       [ 9.778840e+01],\n",
       "       [ 9.087830e+01],\n",
       "       [ 8.416930e+01],\n",
       "       [ 7.778840e+01],\n",
       "       [ 7.103810e+01],\n",
       "       [ 6.514040e+01],\n",
       "       [ 6.009130e+01],\n",
       "       [ 5.586040e+01],\n",
       "       [ 5.237600e+01],\n",
       "       [ 4.935250e+01],\n",
       "       [ 4.667110e+01],\n",
       "       [ 4.502050e+01],\n",
       "       [ 4.316920e+01],\n",
       "       [ 4.111840e+01],\n",
       "       [ 3.888650e+01],\n",
       "       [ 3.650260e+01],\n",
       "       [ 3.418460e+01],\n",
       "       [ 3.198120e+01],\n",
       "       [ 2.997240e+01],\n",
       "       [ 2.824870e+01],\n",
       "       [ 2.688070e+01],\n",
       "       [ 2.589950e+01],\n",
       "       [ 2.530220e+01],\n",
       "       [ 2.505760e+01],\n",
       "       [ 2.511170e+01],\n",
       "       [ 2.538330e+01],\n",
       "       [ 2.576840e+01],\n",
       "       [ 2.615810e+01],\n",
       "       [ 2.646150e+01],\n",
       "       [ 2.662020e+01],\n",
       "       [ 2.661020e+01],\n",
       "       [ 2.642330e+01],\n",
       "       [ 2.605880e+01],\n",
       "       [ 2.552730e+01],\n",
       "       [ 2.485600e+01],\n",
       "       [ 2.408290e+01],\n",
       "       [ 2.324400e+01],\n",
       "       [ 2.236740e+01],\n",
       "       [ 2.147850e+01],\n",
       "       [ 2.060260e+01],\n",
       "       [ 1.976430e+01],\n",
       "       [ 1.898940e+01],\n",
       "       [ 1.829860e+01],\n",
       "       [ 1.770310e+01],\n",
       "       [ 1.720220e+01],\n",
       "       [ 1.679010e+01],\n",
       "       [ 1.646030e+01],\n",
       "       [ 1.619990e+01],\n",
       "       [ 1.598650e+01],\n",
       "       [ 1.579890e+01],\n",
       "       [ 1.562260e+01],\n",
       "       [ 1.545210e+01],\n",
       "       [ 1.528690e+01],\n",
       "       [ 1.512760e+01],\n",
       "       [ 1.497300e+01],\n",
       "       [ 1.481420e+01],\n",
       "       [ 1.463960e+01],\n",
       "       [ 1.443740e+01],\n",
       "       [ 1.419640e+01],\n",
       "       [ 1.390480e+01],\n",
       "       [ 1.355260e+01],\n",
       "       [ 1.313700e+01],\n",
       "       [ 1.266370e+01],\n",
       "       [ 1.214340e+01],\n",
       "       [ 1.159140e+01],\n",
       "       [ 1.102590e+01],\n",
       "       [ 1.047330e+01],\n",
       "       [ 9.964700e+00],\n",
       "       [ 9.527900e+00],\n",
       "       [ 9.179900e+00],\n",
       "       [ 8.925300e+00],\n",
       "       [ 8.766000e+00],\n",
       "       [ 8.704900e+00],\n",
       "       [ 8.739000e+00],\n",
       "       [ 8.853600e+00],\n",
       "       [ 9.018800e+00],\n",
       "       [ 9.194600e+00],\n",
       "       [ 9.343900e+00],\n",
       "       [ 9.438600e+00],\n",
       "       [ 9.462100e+00],\n",
       "       [ 9.399200e+00],\n",
       "       [ 9.232200e+00],\n",
       "       [ 8.952400e+00],\n",
       "       [ 8.569700e+00],\n",
       "       [ 8.111700e+00],\n",
       "       [ 7.612600e+00],\n",
       "       [ 7.099400e+00],\n",
       "       [ 6.591400e+00],\n",
       "       [ 6.104100e+00],\n",
       "       [ 5.655500e+00],\n",
       "       [ 5.268100e+00],\n",
       "       [ 4.958800e+00],\n",
       "       [ 4.731900e+00],\n",
       "       [ 4.580200e+00],\n",
       "       [ 4.496200e+00],\n",
       "       [ 4.478500e+00],\n",
       "       [ 4.527900e+00],\n",
       "       [ 4.632500e+00],\n",
       "       [ 4.771000e+00],\n",
       "       [ 4.920100e+00],\n",
       "       [ 5.064800e+00],\n",
       "       [ 5.246600e+00],\n",
       "       [ 5.424800e+00],\n",
       "       [ 5.567200e+00],\n",
       "       [ 5.679100e+00],\n",
       "       [ 5.803500e+00],\n",
       "       [ 5.995000e+00],\n",
       "       [ 6.308000e+00],\n",
       "       [ 6.749100e+00],\n",
       "       [ 7.396300e+00],\n",
       "       [ 8.243900e+00],\n",
       "       [ 9.323800e+00],\n",
       "       [ 1.061580e+01],\n",
       "       [ 1.206070e+01],\n",
       "       [ 1.356300e+01],\n",
       "       [ 1.502120e+01],\n",
       "       [ 1.633860e+01],\n",
       "       [ 1.747090e+01],\n",
       "       [ 1.830160e+01],\n",
       "       [ 1.874070e+01],\n",
       "       [ 1.874600e+01],\n",
       "       [ 1.832280e+01],\n",
       "       [ 1.748150e+01],\n",
       "       [ 1.625400e+01],\n",
       "       [ 1.469840e+01],\n",
       "       [ 1.290480e+01],\n",
       "       [ 1.098410e+01],\n",
       "       [ 9.047600e+00],\n",
       "       [ 7.206300e+00],\n",
       "       [ 5.555600e+00],\n",
       "       [ 4.169300e+00],\n",
       "       [ 3.078000e+00],\n",
       "       [ 2.298800e+00],\n",
       "       [ 1.827900e+00],\n",
       "       [ 1.627900e+00],\n",
       "       [ 1.728400e+00],\n",
       "       [ 1.871200e+00],\n",
       "       [ 1.955900e+00],\n",
       "       [ 1.920200e+00],\n",
       "       [ 1.784100e+00],\n",
       "       [ 1.561900e+00],\n",
       "       [ 1.428600e+00],\n",
       "       [ 1.428600e+00],\n",
       "       [ 1.904800e+00],\n",
       "       [ 3.333300e+00],\n",
       "       [ 6.476200e+00],\n",
       "       [ 1.495240e+01],\n",
       "       [ 2.842860e+01],\n",
       "       [ 4.542860e+01],\n",
       "       [ 5.795240e+01],\n",
       "       [ 6.447620e+01],\n",
       "       [ 6.390480e+01],\n",
       "       [ 5.928570e+01],\n",
       "       [ 4.795240e+01],\n",
       "       [ 3.185710e+01],\n",
       "       [ 1.319050e+01],\n",
       "       [-0.000000e+00],\n",
       "       [-6.904800e+00],\n",
       "       [-7.666700e+00],\n",
       "       [-6.333300e+00],\n",
       "       [-4.000000e+00],\n",
       "       [-2.238100e+00],\n",
       "       [-1.571400e+00],\n",
       "       [-1.904800e+00],\n",
       "       [-2.571400e+00],\n",
       "       [-2.904800e+00],\n",
       "       [-2.761900e+00],\n",
       "       [-2.000000e+00],\n",
       "       [-7.619000e-01],\n",
       "       [ 5.238000e-01],\n",
       "       [ 1.523800e+00],\n",
       "       [ 2.095200e+00],\n",
       "       [ 2.333300e+00],\n",
       "       [ 2.381000e+00],\n",
       "       [ 2.381000e+00],\n",
       "       [ 2.357100e+00],\n",
       "       [ 2.250000e+00],\n",
       "       [ 2.100000e+00],\n",
       "       [ 1.958300e+00]])"
      ]
     },
     "execution_count": 76,
     "metadata": {},
     "output_type": "execute_result"
    },
    {
     "data": {
      "text/plain": [
       "<Figure size 432x288 with 0 Axes>"
      ]
     },
     "metadata": {},
     "output_type": "display_data"
    }
   ],
   "source": [
    "x = sio.loadmat('ECG.mat')['ECG']\n",
    "y = sio.loadmat('ECG_query.mat')['ecg_query']\n",
    "plt.figure()\n",
    "x\n",
    "y\n",
    "\n"
   ]
  },
  {
   "cell_type": "code",
   "execution_count": 83,
   "metadata": {},
   "outputs": [
    {
     "data": {
      "text/plain": [
       "[<matplotlib.lines.Line2D at 0x25eb7251518>]"
      ]
     },
     "execution_count": 83,
     "metadata": {},
     "output_type": "execute_result"
    },
    {
     "data": {
      "image/png": "[encoded data removed]",
      "text/plain": [
       "<Figure size 432x288 with 1 Axes>"
      ]
     },
     "metadata": {},
     "output_type": "display_data"
    }
   ],
   "source": [
    "#plt.plot(x)\n",
    "plt.plot(x)"
   ]
  },
  {
   "cell_type": "code",
   "execution_count": 78,
   "metadata": {},
   "outputs": [
    {
     "data": {
      "text/plain": [
       "[<matplotlib.lines.Line2D at 0x25eb57cabe0>]"
      ]
     },
     "execution_count": 78,
     "metadata": {},
     "output_type": "execute_result"
    },
    {
     "data": {
      "image/png": "[encoded data removed]",
      "text/plain": [
       "<Figure size 432x288 with 1 Axes>"
      ]
     },
     "metadata": {},
     "output_type": "display_data"
    }
   ],
   "source": [
    "data= sio.loadmat('ECG.mat')['ECG']\n",
    "query= sio.loadmat('ECG_query.mat')['ecg_query']\n",
    "plt.plot(query)"
   ]
  },
  {
   "cell_type": "code",
   "execution_count": 79,
   "metadata": {},
   "outputs": [
    {
     "data": {
      "text/plain": [
       "12140555"
      ]
     },
     "execution_count": 79,
     "metadata": {},
     "output_type": "execute_result"
    }
   ],
   "source": [
    "loc, dist= _ucrdtw.ucrdtw(data, query, 0.05, True)\n",
    "loc\n"
   ]
  },
  {
   "cell_type": "code",
   "execution_count": 80,
   "metadata": {},
   "outputs": [
    {
     "data": {
      "text/plain": [
       "(421, 1)"
      ]
     },
     "execution_count": 80,
     "metadata": {},
     "output_type": "execute_result"
    }
   ],
   "source": [
    "query.shape"
   ]
  },
  {
   "cell_type": "code",
   "execution_count": 92,
   "metadata": {},
   "outputs": [
    {
     "data": {
      "text/plain": [
       "[<matplotlib.lines.Line2D at 0x25eb3848eb8>]"
      ]
     },
     "execution_count": 92,
     "metadata": {},
     "output_type": "execute_result"
    },
    {
     "data": {
      "image/png": "[encoded data removed]",
      "text/plain": [
       "<Figure size 432x288 with 1 Axes>"
      ]
     },
     "metadata": {},
     "output_type": "display_data"
    }
   ],
   "source": [
    "\n",
    "x=np.concatenate((np.linspace(0.0, 0.0, loc), query))\n",
    "plt.plot(data[loc:loc+500])"
   ]
  },
  {
   "cell_type": "code",
   "execution_count": 91,
   "metadata": {},
   "outputs": [
    {
     "data": {
      "image/png": "[encoded data removed]",
      "text/plain": [
       "<Figure size 432x288 with 1 Axes>"
      ]
     },
     "metadata": {},
     "output_type": "display_data"
    }
   ],
   "source": [
    "query=query.reshape(query.size,)\n",
    "query2 = np.concatenate((np.linspace(0.0, 0.0, loc), query)) + (data[loc] - query[0])\n",
    "\n",
    "plt.figure()\n",
    "plt.plot(data[loc:loc+1000])\n",
    "plt.plot(query2[loc:loc+1000])\n",
    "plt.show()"
   ]
  },
  {
   "cell_type": "code",
   "execution_count": 25,
   "metadata": {},
   "outputs": [
    {
     "data": {
      "text/plain": [
       "array([0.])"
      ]
     },
     "execution_count": 25,
     "metadata": {},
     "output_type": "execute_result"
    }
   ],
   "source": [
    "data[loc]"
   ]
  },
  {
   "cell_type": "code",
   "execution_count": null,
   "metadata": {},
   "outputs": [],
   "source": []
  }
 ],
 "metadata": {
  "kernelspec": {
   "display_name": "Python 3",
   "language": "python",
   "name": "python3"
  },
  "language_info": {
   "codemirror_mode": {
    "name": "ipython",
    "version": 3
   },
   "file_extension": ".py",
   "mimetype": "text/x-python",
   "name": "python",
   "nbconvert_exporter": "python",
   "pygments_lexer": "ipython3",
   "version": "3.6.5"
  }
 },
 "nbformat": 4,
 "nbformat_minor": 2
}
